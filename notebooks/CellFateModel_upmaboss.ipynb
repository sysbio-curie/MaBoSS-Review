{
 "cells": [
  {
   "cell_type": "markdown",
   "metadata": {},
   "source": [
    "# UPMaBoSS notebook for the cell fate model"
   ]
  },
  {
   "cell_type": "markdown",
   "metadata": {},
   "source": [
    "This Jupyter notebook implements all the analyses presented in the `UPMaBoSS: a tool for dynamic cell population\n",
    "modeling` manuscript by Stoll et al., which will be available on [bioRxiv.org](https://www.biorxiv.org/search/uppmaboss) in the coming days (as of 2019-05-24).\n",
    "\n",
    "There are two options to run this notebook.\n",
    "\n",
    "1) With the corresponding docker image\n",
    "\n",
    "All necessary software and files are available in the\n",
    "[docker image for the CoLoMoTo notebook](http://www.colomoto.org/notebook)\n",
    "starting with version `2019-05-24`. Further information and usage instructions are available\n",
    "in the documentation of the CoLoMoTo notebook.\n",
    "Launch the docker application on your desktop using the *colomoto-docker* wrapper with the following command:\n",
    "\n",
    "    colomoto-docker -V 2019-05-24\n",
    "    \n",
    "This notebook can then be found in the folder: `usecases/Population-level Cell Fate with UpPMaBoSS`.\n",
    "\n",
    "\n",
    "2) By creating a conda environment locally\n",
    "\n",
    "We suggest to download miniconda3 and create an environment (here named named *umb*) with the following command:\n",
    "\n",
    "     conda create -n umb -c colomoto -c potassco pymaboss notebook seaborn ginsim-python\n",
    "     \n",
    "To launch this environment, you need to activate it with the following command before launching the jupyter notebook:\n",
    "\n",
    "    conda activate umb\n",
    "    jupyter notebook"
   ]
  },
  {
   "cell_type": "markdown",
   "metadata": {},
   "source": [
    "UPMaBoSS computes the evolution and the dynamics of a population of cells taking into account both their intracellular and intercellular regulations.\n",
    "\n",
    "Simulations with UPMaBoSS are based on a logical model describing the intracellular regulations (logical regulatory graph complemented with logical rules), taking into account cell death, cell division, and intercellular communications. \n",
    "\n",
    "The logical model of an individual cell is described as a MaBoSS model. At predefined intervals, the simulation of the cell population is stopped and the status of each cell of the population is updated according to the value of the variables representing cell death and cell division, and the value of the variables accounting for the activation or inhibition of signals coming from other cells. The simulation is then continued with the updated conditions until the maximum simulation time is reached. Since MaBoSS results are probabilistic, the simulation outputs of UpPMaBoSS can be interpreted as the behaviour of a cell population. \n",
    "\n",
    "To run UPMaBoSS, three files are needed: a model file (in BND format), a configuration file with the transition rates, the simulation parameters and the initial conditions (in CFG format), and a file defining the update parameters (in UPP format).\n"
   ]
  },
  {
   "cell_type": "markdown",
   "metadata": {},
   "source": [
    "The notebook presented illustrate the use of UPMaBoSS with the analysis of a modified version of the cell fate model previously published by Calzone et al. (2010). Three files related to the logical model used for the analysis are provided together with this notebook:\n",
    "- the model files: *CellFateModel_uppmaboss.bnd* and *CellFateModel_uppmaboss.cfg*\n",
    "- the update configuration file for UPMaBoSS: *CellFateModel_uppmaboss.upp* \n",
    "\n",
    "The code included in the following cell sets the working environment, and particular load different libraries required to run the notebook."
   ]
  },
  {
   "cell_type": "code",
   "execution_count": 1,
   "metadata": {
    "scrolled": true
   },
   "outputs": [],
   "source": [
    "# Set up working environment\n",
    "import matplotlib.pyplot as plt\n",
    "from matplotlib.patches import Rectangle\n",
    "import seaborn as sns\n",
    "import pandas as pd\n",
    "import numpy as np\n",
    "import os\n",
    "import shutil\n",
    "import maboss\n",
    "import ginsim\n",
    "import time\n",
    "\n",
    "# Set seaborn style and create color maps: white-black scale and blue-light-red for ratios\n",
    "sns.set_style(\"white\")\n",
    "colormap_scale = sns.light_palette(\"black\", as_cmap=True)\n",
    "colormap_ratios = sns.diverging_palette(240, 0, center='light', as_cmap=True)\n",
    "\n",
    "# Shortcut to save figures with a common pattern and format\n",
    "def save_figure(figure, title):\n",
    "    figure.savefig(\"figure_%s.pdf\" % title, bbox_inches=\"tight\")"
   ]
  },
  {
   "cell_type": "markdown",
   "metadata": {},
   "source": [
    "The original cell fate model (Calzone et al., 2010) was defined to study the cell fate decision process in response to the engagement of the death receptors TNFR and Fas.  Depending to the presence of the corresponding  ligands, several pathways can be activated: survival through NFkB activation, death through necrosis (NonACD), or apoptosis. \n",
    "This model has been extended to account for a documented activation of TNFalpha by NFkB (bold arrow), as well as by the addition of two output nodes DIVISION and DEATH, as shown in the regulatory graph using GINsim with the following command line. "
   ]
  },
  {
   "cell_type": "code",
   "execution_count": 2,
   "metadata": {},
   "outputs": [
    {
     "data": {
      "text/html": [
       "Using local file <a href='CellFate_multiscale.zginml' target='_blank'>CellFate_multiscale.zginml</a><br>"
      ],
      "text/plain": [
       "/home/gstoll/Shared/CompStrucBioRevMaBoSS/UPMaBoSSJup/CellFate_multiscale.zginml"
      ]
     },
     "metadata": {},
     "output_type": "display_data"
    },
    {
     "data": {
      "text/html": [
       "<img class=\"unconfined\" width=\"100%\" src=\"data:image/svg+xml;base64,PD94bWwgdmVyc2lvbj0iMS4wIiBlbmNvZGluZz0iVVRGLTgiPz4KPCFET0NUWVBFIHN2ZyBQVUJMSUMgIi0vL1czQy8vRFREIFNWRyAyMDAwMTEwMi8vRU4iICJodHRwOi8vd3d3LnczLm9yZy9UUi8yMDAwL0NSLVNWRy0yMDAwMTEwMi9EVEQvc3ZnLTIwMDAxMTAyLmR0ZCI+Cjxzdmcgd2lkdGg9IjkwNi4wIiBoZWlnaHQ9IjgyNy4wIiB4bWxucz0iaHR0cDovL3d3dy53My5vcmcvMjAwMC9zdmciIHZlcnNpb249IjEuMSI+CiAgPHN0eWxlIHR5cGU9InRleHQvY3NzIj4KdGV4dCB7CiAgZm9udC1mYW1pbHk6ICdTYW5zU2VyaWYnOwogIGZvbnQtc2l6ZTogMTJweDsKfQoubm9kZSAuc2hhcGUgewpmaWxsOiAjZmZmZmZmOwpzdHJva2U6ICMwMDAwMDA7Cn0KLm5vZGUgdGV4dCB7CmZpbGw6ICMwMDAwMDA7Cn0KLm5vZGVfbm9kZV9zdHlsZSAuc2hhcGUgewpmaWxsOiAjZmY5OTk5Owp9Ci5ub2RlX291dHB1dHMgLnNoYXBlIHsKZmlsbDogIzAwMDAwMDsKfQoubm9kZV9vdXRwdXRzIHRleHQgewpmaWxsOiAjZmZmZmZmOwp9Ci5lZGdlIHsKc3Ryb2tlOiAjMDAwMDAwOwpmaWxsOiBub25lOwpzdHJva2Utd2lkdGg6IDE7Cn0KLmVkZ2VfUE9TSVRJVkUgewpzdHJva2U6ICMwMGM4MDA7Cn0KLmVkZ2VfTkVHQVRJVkUgewpzdHJva2U6ICNjODAwMDA7Cn0KLmVkZ2VfRFVBTCB7CnN0cm9rZTogIzAwMDBjODsKfQouZWRnZV9lZGdlX3N0eWxlIHsKc3Ryb2tlLXdpZHRoOiA1Owp9Cjwvc3R5bGU+CiAgPGRlZnM+CiAgICA8bWFya2VyIGlkPSJNYXJrZXJfUE9TSVRJVkVfMDBjODAwIiB2aWV3Qm94PSItNyAtNyAxMiAxNSIgb3JpZW50PSJhdXRvIiBtYXJrZXJIZWlnaHQ9IjkiIG1hcmtlcldpZHRoPSI5Ij4KICAgICAgPHBhdGggc3Ryb2tlPSIjMDBjODAwIiBmaWxsPSIjMDBjODAwIiBkPSJNIC00IC01IEwgLTIgMCBMIC00IDUgTCAyIDAgeiIvPgogICAgPC9tYXJrZXI+CiAgPC9kZWZzPgogIDxwYXRoIGNsYXNzPSJlZGdlIGVkZ2VfUE9TSVRJVkUiIG1hcmtlci1lbmQ9InVybCgjTWFya2VyX1BPU0lUSVZFXzAwYzgwMCkiIGQ9Ik0gMzA2LjAgNDMyLjAgTCAyNjcuMCA0MzIuMCBMIDI2Ny4wIDMwNC4wIi8+CiAgPHBhdGggY2xhc3M9ImVkZ2UgZWRnZV9QT1NJVElWRSIgbWFya2VyLWVuZD0idXJsKCNNYXJrZXJfUE9TSVRJVkVfMDBjODAwKSIgZD0iTSA0OTcuMCAzMDkuMCBMIDQ5Ny4wIDM2OS4wIEwgNDk3LjAgNDMzLjAiLz4KICA8cGF0aCBjbGFzcz0iZWRnZSBlZGdlX1BPU0lUSVZFIiBtYXJrZXItZW5kPSJ1cmwoI01hcmtlcl9QT1NJVElWRV8wMGM4MDApIiBkPSJNIDM3OS4wIDU5MS4wIEwgNDAyLjAgNTkxLjAgTCA0MzAuMCA1OTEuMCIvPgogIDxwYXRoIGNsYXNzPSJlZGdlIGVkZ2VfUE9TSVRJVkUiIG1hcmtlci1lbmQ9InVybCgjTWFya2VyX1BPU0lUSVZFXzAwYzgwMCkiIGQ9Ik0gNzg2LjAgMTQ0LjAgTCAzNzcuMCAxNDQuMCBMIDM3Ny4wIDIwNC4wIi8+CiAgPHBhdGggY2xhc3M9ImVkZ2UgZWRnZV9QT1NJVElWRSIgbWFya2VyLWVuZD0idXJsKCNNYXJrZXJfUE9TSVRJVkVfMDBjODAwKSIgZD0iTSA4MjguMCAxNTUuMCBMIDgyOC4wIDE1OS4wIEwgODI4LjAgMjA3LjAiLz4KICA8cGF0aCBjbGFzcz0iZWRnZSBlZGdlX1BPU0lUSVZFIiBtYXJrZXItZW5kPSJ1cmwoI01hcmtlcl9QT1NJVElWRV8wMGM4MDApIiBkPSJNIDM4OC4wIDIzNS4wIEwgMzg4LjAgMjkyLjAgTCA0NjIuMCAyOTIuMCIvPgogIDxwYXRoIGNsYXNzPSJlZGdlIGVkZ2VfUE9TSVRJVkUiIG1hcmtlci1lbmQ9InVybCgjTWFya2VyX1BPU0lUSVZFXzAwYzgwMCkiIGQ9Ik0gMzczLjAgMjM1LjAgTCAzNzMuMCAyOTMuMCBMIDMzMC4wIDI5My4wIi8+CiAgPHBhdGggY2xhc3M9ImVkZ2UgZWRnZV9QT1NJVElWRSIgbWFya2VyLWVuZD0idXJsKCNNYXJrZXJfUE9TSVRJVkVfMDBjODAwKSIgZD0iTSA4MzcuMCA0NDguMCBMIDgzNy4wIDQ4MS4wIEwgODM3LjAgNTAwLjAiLz4KICA8cGF0aCBjbGFzcz0iZWRnZSBlZGdlX1BPU0lUSVZFIiBtYXJrZXItZW5kPSJ1cmwoI01hcmtlcl9QT1NJVElWRV8wMGM4MDApIiBkPSJNIDgwNy4wIDQzNS4wIEwgNTY2LjAgNDM1LjAgTCA1NjYuMCA1MDQuMCIvPgogIDxwYXRoIGNsYXNzPSJlZGdlIGVkZ2VfUE9TSVRJVkUiIG1hcmtlci1lbmQ9InVybCgjTWFya2VyX1BPU0lUSVZFXzAwYzgwMCkiIGQ9Ik0gODM2LjAgNjk2LjAgTCA4MzYuMCA3MTQuMCBMIDgzNi4wIDcyMC4wIi8+CiAgPGRlZnM+CiAgICA8bWFya2VyIGlkPSJNYXJrZXJfTkVHQVRJVkVfYzgwMDAwIiB2aWV3Qm94PSItNyAtNyAxMiAxNSIgb3JpZW50PSJhdXRvIiBtYXJrZXJIZWlnaHQ9IjkiIG1hcmtlcldpZHRoPSI5Ij4KICAgICAgPHBhdGggc3Ryb2tlPSIjYzgwMDAwIiBmaWxsPSIjYzgwMDAwIiBkPSJNIC0xIC00IEwgLTEgNCBMIDEgNCBMIDEgLTQgeiIvPgogICAgPC9tYXJrZXI+CiAgPC9kZWZzPgogIDxwYXRoIGNsYXNzPSJlZGdlIGVkZ2VfTkVHQVRJVkUiIG1hcmtlci1lbmQ9InVybCgjTWFya2VyX05FR0FUSVZFX2M4MDAwMCkiIGQ9Ik0gODA5LjAgNjg2LjAgTCAxOTcuMCA2ODYuMCBMIDE5Ny4wIDU2My4wIi8+CiAgPHBhdGggY2xhc3M9ImVkZ2UgZWRnZV9QT1NJVElWRSIgbWFya2VyLWVuZD0idXJsKCNNYXJrZXJfUE9TSVRJVkVfMDBjODAwKSIgZD0iTSA5MDAuMCA2ODEuMCBMIDkwMC4wIDY4MS4wIEwgOTAwLjAgMjIxLjAgTCA4OTkuMCAyMjEuMCIvPgogIDxwYXRoIGNsYXNzPSJlZGdlIGVkZ2VfTkVHQVRJVkUiIG1hcmtlci1lbmQ9InVybCgjTWFya2VyX05FR0FUSVZFX2M4MDAwMCkiIGQ9Ik0gNDI0LjAgMzI2LjAgTCA0MjQuMCAyMzMuMCBMIDgwMi4wIDIzMy4wIi8+CiAgPHBhdGggY2xhc3M9ImVkZ2UgZWRnZV9QT1NJVElWRSIgbWFya2VyLWVuZD0idXJsKCNNYXJrZXJfUE9TSVRJVkVfMDBjODAwKSIgZD0iTSAyMzUuMCAyOTIuMCBMIDE4NS4wIDI5Mi4wIEwgMTg1LjAgMzM4LjAiLz4KICA8cGF0aCBjbGFzcz0iZWRnZSBlZGdlX1BPU0lUSVZFIiBtYXJrZXItZW5kPSJ1cmwoI01hcmtlcl9QT1NJVElWRV8wMGM4MDApIiBkPSJNIDYyNS4wIDc1MS4wIEwgNzAwLjAgNzk0LjAiLz4KICA8cGF0aCBjbGFzcz0iZWRnZSBlZGdlX05FR0FUSVZFIiBtYXJrZXItZW5kPSJ1cmwoI01hcmtlcl9ORUdBVElWRV9jODAwMDApIiBkPSJNIDgwNC4wIDIyMi4wIEwgNjI0LjAgMjIyLjAgTCA0NDAuMCAyMjIuMCIvPgogIDxwYXRoIGNsYXNzPSJlZGdlIGVkZ2VfUE9TSVRJVkUiIG1hcmtlci1lbmQ9InVybCgjTWFya2VyX1BPU0lUSVZFXzAwYzgwMCkiIGQ9Ik0gODMzLjAgMjM4LjAgTCA4MzMuMCAyOTQuMCBMIDgzMy4wIDMxMC4wIi8+CiAgPHBhdGggY2xhc3M9ImVkZ2UgZWRnZV9QT1NJVElWRSIgbWFya2VyLWVuZD0idXJsKCNNYXJrZXJfUE9TSVRJVkVfMDBjODAwKSIgZD0iTSA4MzYuMCA1MzEuMCBMIDgzNi4wIDU3Mi4wIEwgODM2LjAgNTc5LjAiLz4KICA8cGF0aCBjbGFzcz0iZWRnZSBlZGdlX1BPU0lUSVZFIiBtYXJrZXItZW5kPSJ1cmwoI01hcmtlcl9QT1NJVElWRV8wMGM4MDApIiBkPSJNIDgzNy4wIDM0MS4wIEwgODM3LjAgNDIyLjAgTCA4MzcuMCA0MjIuMCIvPgogIDxwYXRoIGNsYXNzPSJlZGdlIGVkZ2VfTkVHQVRJVkUiIG1hcmtlci1lbmQ9InVybCgjTWFya2VyX05FR0FUSVZFX2M4MDAwMCkiIGQ9Ik0gNjk2LjAgMzc0LjAgTCA2OTYuMCAzMjguMCBMIDgwNi4wIDMyOC4wIi8+CiAgPHBhdGggY2xhc3M9ImVkZ2UgZWRnZV9ORUdBVElWRSIgbWFya2VyLWVuZD0idXJsKCNNYXJrZXJfTkVHQVRJVkVfYzgwMDAwKSIgZD0iTSA2OTcuMCA0MDMuMCBMIDY5Ny4wIDQyNi4wIEwgNjk3LjAgNDU5LjAiLz4KICA8cGF0aCBjbGFzcz0iZWRnZSBlZGdlX1BPU0lUSVZFIiBtYXJrZXItZW5kPSJ1cmwoI01hcmtlcl9QT1NJVElWRV8wMGM4MDApIiBkPSJNIDMwOC4wIDEzMC4wIEwgMzA4LjAgMjE4LjAgTCAzNDMuMCAyMTguMCIvPgogIDxwYXRoIGNsYXNzPSJlZGdlIGVkZ2VfUE9TSVRJVkUiIG1hcmtlci1lbmQ9InVybCgjTWFya2VyX1BPU0lUSVZFXzAwYzgwMCkiIGQ9Ik0gMzQ0LjAgMTE4LjAgTCAzODAuMCAxMTguMCBMIDQ1MC4wIDExOC4wIi8+CiAgPHBhdGggY2xhc3M9ImVkZ2UgZWRnZV9QT1NJVElWRSIgbWFya2VyLWVuZD0idXJsKCNNYXJrZXJfUE9TSVRJVkVfMDBjODAwKSIgZD0iTSA2MTMuMCA3MS4wIEwgNDk1LjAgNzEuMCBMIDQ5NS4wIDk4LjAiLz4KICA8cGF0aCBjbGFzcz0iZWRnZSBlZGdlX1BPU0lUSVZFIiBtYXJrZXItZW5kPSJ1cmwoI01hcmtlcl9QT1NJVElWRV8wMGM4MDApIiBkPSJNIDcwNy4wIDc1LjAgTCA4MTEuMCA3NS4wIEwgODExLjAgMTI0LjAiLz4KICA8cGF0aCBjbGFzcz0iZWRnZSBlZGdlX05FR0FUSVZFIiBtYXJrZXItZW5kPSJ1cmwoI01hcmtlcl9ORUdBVElWRV9jODAwMDApIiBkPSJNIDUyNi4wIDYwMC4wIEwgNjU0LjAgNjAwLjAgTCA3ODcuMCA2MDAuMCIvPgogIDxwYXRoIGNsYXNzPSJlZGdlIGVkZ2VfTkVHQVRJVkUiIG1hcmtlci1lbmQ9InVybCgjTWFya2VyX05FR0FUSVZFX2M4MDAwMCkiIGQ9Ik0gNDY0LjAgNjA2LjAgTCA0NjQuMCA2NzYuMCBMIDgwNy4wIDY3Ni4wIi8+CiAgPHBhdGggY2xhc3M9ImVkZ2UgZWRnZV9QT1NJVElWRSIgbWFya2VyLWVuZD0idXJsKCNNYXJrZXJfUE9TSVRJVkVfMDBjODAwKSIgZD0iTSAxODUuMCAzNjkuMCBMIDE4NS4wIDQ1OC4wIEwgMTg1LjAgNTMxLjAiLz4KICA8cGF0aCBjbGFzcz0iZWRnZSBlZGdlX1BPU0lUSVZFIiBtYXJrZXItZW5kPSJ1cmwoI01hcmtlcl9QT1NJVElWRV8wMGM4MDApIiBkPSJNIDgyOS4wIDU4LjAgTCA4MjkuMCA4My4wIEwgODI5LjAgMTI0LjAiLz4KICA8cGF0aCBjbGFzcz0iZWRnZSBlZGdlX1BPU0lUSVZFIiBtYXJrZXItZW5kPSJ1cmwoI01hcmtlcl9QT1NJVElWRV8wMGM4MDApIiBkPSJNIDQ5OS4wIDQ4Ny4wIEwgNDk5LjAgNDc4LjAgTCA0OTkuMCA0NjUuMCIvPgogIDxwYXRoIGNsYXNzPSJlZGdlIGVkZ2VfUE9TSVRJVkUiIG1hcmtlci1lbmQ9InVybCgjTWFya2VyX1BPU0lUSVZFXzAwYzgwMCkiIGQ9Ik0gNjcwLjAgNDc0LjAgTCA1MTYuMCA0NzQuMCBMIDUxNi4wIDQ2NS4wIi8+CiAgPHBhdGggY2xhc3M9ImVkZ2UgZWRnZV9ORUdBVElWRSIgbWFya2VyLWVuZD0idXJsKCNNYXJrZXJfTkVHQVRJVkVfYzgwMDAwKSIgZD0iTSA2OTkuMCA0OTAuMCBMIDY5OS4wIDUxMi4wIEwgNjk5LjAgNTQxLjAiLz4KICA8cGF0aCBjbGFzcz0iZWRnZSBlZGdlX1BPU0lUSVZFIiBtYXJrZXItZW5kPSJ1cmwoI01hcmtlcl9QT1NJVElWRV8wMGM4MDApIiBkPSJNIDc2NC4wIDQ3Ny4wIEwgODI2LjAgNDc3LjAgTCA4MjYuMCA0NDkuMCIvPgogIDxwYXRoIGNsYXNzPSJlZGdlIGVkZ2VfUE9TSVRJVkUiIG1hcmtlci1lbmQ9InVybCgjTWFya2VyX1BPU0lUSVZFXzAwYzgwMCkiIGQ9Ik0gNzYwLjAgNTU2LjAgTCA4MjEuMCA1NTYuMCBMIDgyMS4wIDU3OS4wIi8+CiAgPHBhdGggY2xhc3M9ImVkZ2UgZWRnZV9ORUdBVElWRSIgbWFya2VyLWVuZD0idXJsKCNNYXJrZXJfTkVHQVRJVkVfYzgwMDAwKSIgZD0iTSA2NjYuMCA1NjAuMCBMIDU5Ny4wIDU2MC4wIEwgNTk3LjAgNzIwLjAiLz4KICA8cGF0aCBjbGFzcz0iZWRnZSBlZGdlX1BPU0lUSVZFIiBtYXJrZXItZW5kPSJ1cmwoI01hcmtlcl9QT1NJVElWRV8wMGM4MDApIiBkPSJNIDI3MC4wIDQ3NS4wIEwgMjcwLjAgNDQxLjAgTCAyODUuMCA0NDEuMCBMIDMwNC4wIDQ0MS4wIi8+CiAgPHBhdGggY2xhc3M9ImVkZ2UgZWRnZV9QT1NJVElWRSIgbWFya2VyLWVuZD0idXJsKCNNYXJrZXJfUE9TSVRJVkVfMDBjODAwKSIgZD0iTSAxODUuMCA1NjIuMCBMIDE4NS4wIDY0My4wIEwgMTg1LjAgNzE4LjAiLz4KICA8cGF0aCBjbGFzcz0iZWRnZSBlZGdlX1BPU0lUSVZFIiBtYXJrZXItZW5kPSJ1cmwoI01hcmtlcl9QT1NJVElWRV8wMGM4MDApIiBkPSJNIDI0Ny4wIDUzOS4wIEwgNDIzLjAgNTM5LjAgTCA0MjMuMCAzNTYuMCIvPgogIDxwYXRoIGNsYXNzPSJlZGdlIGVkZ2VfUE9TSVRJVkUiIG1hcmtlci1lbmQ9InVybCgjTWFya2VyX1BPU0lUSVZFXzAwYzgwMCkiIGQ9Ik0gMTk3LjAgNTMzLjAgTCAxOTcuMCAzOTEuMCBMIDY2My4wIDM5MS4wIi8+CiAgPHBhdGggY2xhc3M9ImVkZ2UgZWRnZV9QT1NJVElWRSBlZGdlX2VkZ2Vfc3R5bGUiIG1hcmtlci1lbmQ9InVybCgjTWFya2VyX1BPU0lUSVZFXzAwYzgwMCkiIGQ9Ik0gMTUzLjAgNTUwLjAgTCA4NS4wIDU1MC4wIEwgODQuMCA0OS4wIEwgMjY0LjAgNDkuMCIvPgogIDxwYXRoIGNsYXNzPSJlZGdlIGVkZ2VfTkVHQVRJVkUiIG1hcmtlci1lbmQ9InVybCgjTWFya2VyX05FR0FUSVZFX2M4MDAwMCkiIGQ9Ik0gMjQ3LjAgNTQ4LjAgTCA0ODMuMCA1NDguMCBMIDQ4My4wIDUxNy4wIi8+CiAgPHBhdGggY2xhc3M9ImVkZ2UgZWRnZV9QT1NJVElWRSIgbWFya2VyLWVuZD0idXJsKCNNYXJrZXJfUE9TSVRJVkVfMDBjODAwKSIgZD0iTSAyMTMuMCA1MzMuMCBMIDIxMy4wIDQ4OC4wIEwgMjMyLjAgNDg4LjAiLz4KICA8cGF0aCBjbGFzcz0iZWRnZSBlZGdlX1BPU0lUSVZFIiBtYXJrZXItZW5kPSJ1cmwoI01hcmtlcl9QT1NJVElWRV8wMGM4MDApIiBkPSJNIDIxNi4wIDU2Mi4wIEwgMjE2LjAgNTkyLjAgTCAyODMuMCA1OTIuMCIvPgogIDxwYXRoIGNsYXNzPSJlZGdlIGVkZ2VfUE9TSVRJVkUiIG1hcmtlci1lbmQ9InVybCgjTWFya2VyX1BPU0lUSVZFXzAwYzgwMCkiIGQ9Ik0gMTk1LjAgNzQ3LjAgTCAxOTUuMCA3OTYuMCIvPgogIDxwYXRoIGNsYXNzPSJlZGdlIGVkZ2VfUE9TSVRJVkUiIG1hcmtlci1lbmQ9InVybCgjTWFya2VyX1BPU0lUSVZFXzAwYzgwMCkiIGQ9Ik0gNTAwLjAgMTI5LjAgTCA1MDAuMCAyMTMuMCBMIDgwMi4wIDIxMy4wIi8+CiAgPHBhdGggY2xhc3M9ImVkZ2UgZWRnZV9QT1NJVElWRSIgbWFya2VyLWVuZD0idXJsKCNNYXJrZXJfUE9TSVRJVkVfMDBjODAwKSIgZD0iTSA1NjAuMCA0NDcuMCBMIDY4Ni4wIDQ0Ny4wIEwgNjg2LjAgNDU5LjAiLz4KICA8cGF0aCBjbGFzcz0iZWRnZSBlZGdlX1BPU0lUSVZFIiBtYXJrZXItZW5kPSJ1cmwoI01hcmtlcl9QT1NJVElWRV8wMGM4MDApIiBkPSJNIDMwNC4wIDYyLjAgTCAzMDQuMCA4OC4wIEwgMzA0LjAgOTkuMCIvPgogIDxwYXRoIGNsYXNzPSJlZGdlIGVkZ2VfUE9TSVRJVkUiIG1hcmtlci1lbmQ9InVybCgjTWFya2VyX1BPU0lUSVZFXzAwYzgwMCkiIGQ9Ik0gMzUyLjAgMzUuMCBMIDM1Mi4wIDIwLjAgTCAzNzkuMCAyMC4wIEwgMzc5LjAgNDcuMCBMIDM2Ny4wIDQ3LjAiLz4KICA8cGF0aCBjbGFzcz0iZWRnZSBlZGdlX05FR0FUSVZFIiBtYXJrZXItZW5kPSJ1cmwoI01hcmtlcl9ORUdBVElWRV9jODAwMDApIiBkPSJNIDUzMy4wIDUyMi4wIEwgMzM4LjAgNTIyLjAgTCAzMzguMCA0NDkuMCIvPgogIDxwYXRoIGNsYXNzPSJlZGdlIGVkZ2VfTkVHQVRJVkUiIG1hcmtlci1lbmQ9InVybCgjTWFya2VyX05FR0FUSVZFX2M4MDAwMCkiIGQ9Ik0gNTYyLjAgNTM1LjAgTCA1NjIuMCA1ODcuMCBMIDUyNy4wIDU4Ny4wIi8+CiAgPHBhdGggY2xhc3M9ImVkZ2UgZWRnZV9QT1NJVElWRSIgbWFya2VyLWVuZD0idXJsKCNNYXJrZXJfUE9TSVRJVkVfMDBjODAwKSIgZD0iTSA4MzguMCA2MTAuMCBMIDgzOC4wIDY0MC4wIEwgODM4LjAgNjY1LjAiLz4KICA8cGF0aCBjbGFzcz0iZWRnZSBlZGdlX1BPU0lUSVZFIiBtYXJrZXItZW5kPSJ1cmwoI01hcmtlcl9QT1NJVElWRV8wMGM4MDApIiBkPSJNIDgyMS4wIDc1MS4wIEwgNzQ0LjAgNzk0LjAiLz4KICA8ZyBpZD0iRkFTTCIgY2xhc3M9Im5vZGUiPgogICAgPGVsbGlwc2UgaWQ9IkZBU0xfc2hhcGUiIGNsYXNzPSJzaGFwZSIgY3g9Ijg0OC4wIiBjeT0iNDMuNSIgcng9IjQ1LjAiIHJ5PSIxMi41Ii8+CiAgICA8dGV4dCAgaWQ9IkZBU0xfdGV4dCIgeD0iODQ4IiB5PSI0NiIgdGV4dC1hbmNob3I9Im1pZGRsZSI+RkFTTDwvdGV4dD4KICA8L2c+CiAgPGcgaWQ9IlRORiIgY2xhc3M9Im5vZGUiPgogICAgPGVsbGlwc2UgaWQ9IlRORl9zaGFwZSIgY2xhc3M9InNoYXBlIiBjeD0iMzE5LjAiIGN5PSI0Ny41IiByeD0iNDUuMCIgcnk9IjEyLjUiLz4KICAgIDx0ZXh0ICBpZD0iVE5GX3RleHQiIHg9IjMxOSIgeT0iNTAiIHRleHQtYW5jaG9yPSJtaWRkbGUiPlRORjwvdGV4dD4KICA8L2c+CiAgPGcgaWQ9IlRORlIiIGNsYXNzPSJub2RlIj4KICAgIDxlbGxpcHNlIGlkPSJUTkZSX3NoYXBlIiBjbGFzcz0ic2hhcGUiIGN4PSIyOTcuMCIgY3k9IjExNS41IiByeD0iNDUuMCIgcnk9IjEyLjUiLz4KICAgIDx0ZXh0ICBpZD0iVE5GUl90ZXh0IiB4PSIyOTciIHk9IjExOCIgdGV4dC1hbmNob3I9Im1pZGRsZSI+VE5GUjwvdGV4dD4KICA8L2c+CiAgPGcgaWQ9IkRJU0NfVE5GIiBjbGFzcz0ibm9kZSI+CiAgICA8ZWxsaXBzZSBpZD0iRElTQ19UTkZfc2hhcGUiIGNsYXNzPSJzaGFwZSIgY3g9IjQ5OS4wIiBjeT0iMTE0LjUiIHJ4PSI0NS4wIiByeT0iMTIuNSIvPgogICAgPHRleHQgIGlkPSJESVNDX1RORl90ZXh0IiB4PSI0OTkiIHk9IjExNyIgdGV4dC1hbmNob3I9Im1pZGRsZSI+RElTQ19UTkY8L3RleHQ+CiAgPC9nPgogIDxnIGlkPSJESVNDX0ZBUyIgY2xhc3M9Im5vZGUiPgogICAgPGVsbGlwc2UgaWQ9IkRJU0NfRkFTX3NoYXBlIiBjbGFzcz0ic2hhcGUiIGN4PSI4MzMuMCIgY3k9IjE0MC41IiByeD0iNDUuMCIgcnk9IjEyLjUiLz4KICAgIDx0ZXh0ICBpZD0iRElTQ19GQVNfdGV4dCIgeD0iODMzIiB5PSIxNDMiIHRleHQtYW5jaG9yPSJtaWRkbGUiPkRJU0NfRkFTPC90ZXh0PgogIDwvZz4KICA8ZyBpZD0iRkFERCIgY2xhc3M9Im5vZGUiPgogICAgPGVsbGlwc2UgaWQ9IkZBRERfc2hhcGUiIGNsYXNzPSJzaGFwZSIgY3g9IjY2MC4wIiBjeT0iNzEuNSIgcng9IjQ1LjAiIHJ5PSIxMi41Ii8+CiAgICA8dGV4dCAgaWQ9IkZBRERfdGV4dCIgeD0iNjYwIiB5PSI3NCIgdGV4dC1hbmNob3I9Im1pZGRsZSI+RkFERDwvdGV4dD4KICA8L2c+CiAgPGcgaWQ9IlJJUDEiIGNsYXNzPSJub2RlIj4KICAgIDxlbGxpcHNlIGlkPSJSSVAxX3NoYXBlIiBjbGFzcz0ic2hhcGUiIGN4PSIzOTIuMCIgY3k9IjIyMC41IiByeD0iNDUuMCIgcnk9IjEyLjUiLz4KICAgIDx0ZXh0ICBpZD0iUklQMV90ZXh0IiB4PSIzOTIiIHk9IjIyMyIgdGV4dC1hbmNob3I9Im1pZGRsZSI+UklQMTwvdGV4dD4KICA8L2c+CiAgPGcgaWQ9IlJJUDF1YiIgY2xhc3M9Im5vZGUiPgogICAgPGVsbGlwc2UgaWQ9IlJJUDF1Yl9zaGFwZSIgY2xhc3M9InNoYXBlIiBjeD0iMjgyLjAiIGN5PSIyODguNSIgcng9IjQ1LjAiIHJ5PSIxMi41Ii8+CiAgICA8dGV4dCAgaWQ9IlJJUDF1Yl90ZXh0IiB4PSIyODIiIHk9IjI5MSIgdGV4dC1hbmNob3I9Im1pZGRsZSI+UklQMXViPC90ZXh0PgogIDwvZz4KICA8ZyBpZD0iUklQMUsiIGNsYXNzPSJub2RlIj4KICAgIDxlbGxpcHNlIGlkPSJSSVAxS19zaGFwZSIgY2xhc3M9InNoYXBlIiBjeD0iNTExLjAiIGN5PSIyOTQuNSIgcng9IjQ1LjAiIHJ5PSIxMi41Ii8+CiAgICA8dGV4dCAgaWQ9IlJJUDFLX3RleHQiIHg9IjUxMSIgeT0iMjk3IiB0ZXh0LWFuY2hvcj0ibWlkZGxlIj5SSVAxSzwvdGV4dD4KICA8L2c+CiAgPGcgaWQ9IklLSyIgY2xhc3M9Im5vZGUiPgogICAgPGVsbGlwc2UgaWQ9IklLS19zaGFwZSIgY2xhc3M9InNoYXBlIiBjeD0iMjAwLjAiIGN5PSIzNTQuNSIgcng9IjQ1LjAiIHJ5PSIxMi41Ii8+CiAgICA8dGV4dCAgaWQ9IklLS190ZXh0IiB4PSIyMDAiIHk9IjM1NyIgdGV4dC1hbmNob3I9Im1pZGRsZSI+SUtLPC90ZXh0PgogIDwvZz4KICA8ZyBpZD0iTkZLQjEiIGNsYXNzPSJub2RlIj4KICAgIDxlbGxpcHNlIGlkPSJORktCMV9zaGFwZSIgY2xhc3M9InNoYXBlIiBjeD0iMjAwLjAiIGN5PSI1NDcuNSIgcng9IjQ1LjAiIHJ5PSIxMi41Ii8+CiAgICA8dGV4dCAgaWQ9Ik5GS0IxX3RleHQiIHg9IjIwMCIgeT0iNTUwIiB0ZXh0LWFuY2hvcj0ibWlkZGxlIj5ORktCMTwvdGV4dD4KICA8L2c+CiAgPGcgaWQ9IkNBU1A4IiBjbGFzcz0ibm9kZSI+CiAgICA8ZWxsaXBzZSBpZD0iQ0FTUDhfc2hhcGUiIGNsYXNzPSJzaGFwZSIgY3g9Ijg1MS4wIiBjeT0iMjIzLjUiIHJ4PSI0NS4wIiByeT0iMTIuNSIvPgogICAgPHRleHQgIGlkPSJDQVNQOF90ZXh0IiB4PSI4NTEiIHk9IjIyNiIgdGV4dC1hbmNob3I9Im1pZGRsZSI+Q0FTUDg8L3RleHQ+CiAgPC9nPgogIDxnIGlkPSJCQVgiIGNsYXNzPSJub2RlIj4KICAgIDxlbGxpcHNlIGlkPSJCQVhfc2hhcGUiIGNsYXNzPSJzaGFwZSIgY3g9Ijg1NS4wIiBjeT0iMzI2LjUiIHJ4PSI0NS4wIiByeT0iMTIuNSIvPgogICAgPHRleHQgIGlkPSJCQVhfdGV4dCIgeD0iODU1IiB5PSIzMjkiIHRleHQtYW5jaG9yPSJtaWRkbGUiPkJBWDwvdGV4dD4KICA8L2c+CiAgPGcgaWQ9IkJDTDIiIGNsYXNzPSJub2RlIj4KICAgIDxlbGxpcHNlIGlkPSJCQ0wyX3NoYXBlIiBjbGFzcz0ic2hhcGUiIGN4PSI3MTIuMCIgY3k9IjM4OC41IiByeD0iNDUuMCIgcnk9IjEyLjUiLz4KICAgIDx0ZXh0ICBpZD0iQkNMMl90ZXh0IiB4PSI3MTIiIHk9IjM5MSIgdGV4dC1hbmNob3I9Im1pZGRsZSI+QkNMMjwvdGV4dD4KICA8L2c+CiAgPGcgaWQ9IlJPUyIgY2xhc3M9Im5vZGUiPgogICAgPGVsbGlwc2UgaWQ9IlJPU19zaGFwZSIgY2xhc3M9InNoYXBlIiBjeD0iNTEzLjAiIGN5PSI0NDkuNSIgcng9IjQ1LjAiIHJ5PSIxMi41Ii8+CiAgICA8dGV4dCAgaWQ9IlJPU190ZXh0IiB4PSI1MTMiIHk9IjQ1MiIgdGV4dC1hbmNob3I9Im1pZGRsZSI+Uk9TPC90ZXh0PgogIDwvZz4KICA8ZyBpZD0iQVRQIiBjbGFzcz0ibm9kZSI+CiAgICA8ZWxsaXBzZSBpZD0iQVRQX3NoYXBlIiBjbGFzcz0ic2hhcGUiIGN4PSI3MTMuMCIgY3k9IjU1Ny41IiByeD0iNDUuMCIgcnk9IjEyLjUiLz4KICAgIDx0ZXh0ICBpZD0iQVRQX3RleHQiIHg9IjcxMyIgeT0iNTYwIiB0ZXh0LWFuY2hvcj0ibWlkZGxlIj5BVFA8L3RleHQ+CiAgPC9nPgogIDxnIGlkPSJNUFQiIGNsYXNzPSJub2RlIj4KICAgIDxlbGxpcHNlIGlkPSJNUFRfc2hhcGUiIGNsYXNzPSJzaGFwZSIgY3g9IjcxNy4wIiBjeT0iNDc1LjUiIHJ4PSI0NS4wIiByeT0iMTIuNSIvPgogICAgPHRleHQgIGlkPSJNUFRfdGV4dCIgeD0iNzE3IiB5PSI0NzgiIHRleHQtYW5jaG9yPSJtaWRkbGUiPk1QVDwvdGV4dD4KICA8L2c+CiAgPGcgaWQ9Ik1PTVAiIGNsYXNzPSJub2RlIj4KICAgIDxlbGxpcHNlIGlkPSJNT01QX3NoYXBlIiBjbGFzcz0ic2hhcGUiIGN4PSI4NTQuMCIgY3k9IjQzMy41IiByeD0iNDUuMCIgcnk9IjEyLjUiLz4KICAgIDx0ZXh0ICBpZD0iTU9NUF90ZXh0IiB4PSI4NTQiIHk9IjQzNiIgdGV4dC1hbmNob3I9Im1pZGRsZSI+TU9NUDwvdGV4dD4KICA8L2c+CiAgPGcgaWQ9IlNNQUMiIGNsYXNzPSJub2RlIj4KICAgIDxlbGxpcHNlIGlkPSJTTUFDX3NoYXBlIiBjbGFzcz0ic2hhcGUiIGN4PSI1ODAuMCIgY3k9IjUyMC41IiByeD0iNDUuMCIgcnk9IjEyLjUiLz4KICAgIDx0ZXh0ICBpZD0iU01BQ190ZXh0IiB4PSI1ODAiIHk9IjUyMyIgdGV4dC1hbmNob3I9Im1pZGRsZSI+U01BQzwvdGV4dD4KICA8L2c+CiAgPGcgaWQ9ImNJQVAiIGNsYXNzPSJub2RlIj4KICAgIDxlbGxpcHNlIGlkPSJjSUFQX3NoYXBlIiBjbGFzcz0ic2hhcGUiIGN4PSIzNTMuMCIgY3k9IjQzMy41IiByeD0iNDUuMCIgcnk9IjEyLjUiLz4KICAgIDx0ZXh0ICBpZD0iY0lBUF90ZXh0IiB4PSIzNTMiIHk9IjQzNiIgdGV4dC1hbmNob3I9Im1pZGRsZSI+Y0lBUDwvdGV4dD4KICA8L2c+CiAgPGcgaWQ9IkN5dF9jIiBjbGFzcz0ibm9kZSI+CiAgICA8ZWxsaXBzZSBpZD0iQ3l0X2Nfc2hhcGUiIGNsYXNzPSJzaGFwZSIgY3g9Ijg0OS4wIiBjeT0iNTE2LjUiIHJ4PSI0NS4wIiByeT0iMTIuNSIvPgogICAgPHRleHQgIGlkPSJDeXRfY190ZXh0IiB4PSI4NDkiIHk9IjUxOSIgdGV4dC1hbmNob3I9Im1pZGRsZSI+Q3l0X2M8L3RleHQ+CiAgPC9nPgogIDxnIGlkPSJYSUFQIiBjbGFzcz0ibm9kZSI+CiAgICA8ZWxsaXBzZSBpZD0iWElBUF9zaGFwZSIgY2xhc3M9InNoYXBlIiBjeD0iNDc5LjAiIGN5PSI1OTEuNSIgcng9IjQ1LjAiIHJ5PSIxMi41Ii8+CiAgICA8dGV4dCAgaWQ9IlhJQVBfdGV4dCIgeD0iNDc5IiB5PSI1OTQiIHRleHQtYW5jaG9yPSJtaWRkbGUiPlhJQVA8L3RleHQ+CiAgPC9nPgogIDxnIGlkPSJhcG9wdG9zb21lIiBjbGFzcz0ibm9kZSI+CiAgICA8ZWxsaXBzZSBpZD0iYXBvcHRvc29tZV9zaGFwZSIgY2xhc3M9InNoYXBlIiBjeD0iODM2LjAiIGN5PSI1OTUuNSIgcng9IjQ1LjAiIHJ5PSIxMi41Ii8+CiAgICA8dGV4dCAgaWQ9ImFwb3B0b3NvbWVfdGV4dCIgeD0iODM2IiB5PSI1OTgiIHRleHQtYW5jaG9yPSJtaWRkbGUiPmFwb3B0b3NvbWU8L3RleHQ+CiAgPC9nPgogIDxnIGlkPSJDQVNQMyIgY2xhc3M9Im5vZGUiPgogICAgPGVsbGlwc2UgaWQ9IkNBU1AzX3NoYXBlIiBjbGFzcz0ic2hhcGUiIGN4PSI4NTYuMCIgY3k9IjY4MS41IiByeD0iNDUuMCIgcnk9IjEyLjUiLz4KICAgIDx0ZXh0ICBpZD0iQ0FTUDNfdGV4dCIgeD0iODU2IiB5PSI2ODQiIHRleHQtYW5jaG9yPSJtaWRkbGUiPkNBU1AzPC90ZXh0PgogIDwvZz4KICA8ZyBpZD0iY0ZMSVAiIGNsYXNzPSJub2RlIj4KICAgIDxlbGxpcHNlIGlkPSJjRkxJUF9zaGFwZSIgY2xhc3M9InNoYXBlIiBjeD0iNDM3LjAiIGN5PSIzNDAuNSIgcng9IjQ1LjAiIHJ5PSIxMi41Ii8+CiAgICA8dGV4dCAgaWQ9ImNGTElQX3RleHQiIHg9IjQzNyIgeT0iMzQzIiB0ZXh0LWFuY2hvcj0ibWlkZGxlIj5jRkxJUDwvdGV4dD4KICA8L2c+CiAgPGcgaWQ9Im1ST1MiIGNsYXNzPSJub2RlIG5vZGVfbm9kZV9zdHlsZSI+CiAgICA8ZWxsaXBzZSBpZD0ibVJPU19zaGFwZSIgY2xhc3M9InNoYXBlIiBjeD0iNDkxLjAiIGN5PSI1MDEuNSIgcng9IjQ1LjAiIHJ5PSIxMi41Ii8+CiAgICA8dGV4dCAgaWQ9Im1ST1NfdGV4dCIgeD0iNDkxIiB5PSI1MDQiIHRleHQtYW5jaG9yPSJtaWRkbGUiPm1ST1M8L3RleHQ+CiAgPC9nPgogIDxnIGlkPSJtY0lBUCIgY2xhc3M9Im5vZGUgbm9kZV9ub2RlX3N0eWxlIj4KICAgIDxlbGxpcHNlIGlkPSJtY0lBUF9zaGFwZSIgY2xhc3M9InNoYXBlIiBjeD0iMjgxLjAiIGN5PSI0ODkuNSIgcng9IjQ1LjAiIHJ5PSIxMi41Ii8+CiAgICA8dGV4dCAgaWQ9Im1jSUFQX3RleHQiIHg9IjI4MSIgeT0iNDkyIiB0ZXh0LWFuY2hvcj0ibWlkZGxlIj5tY0lBUDwvdGV4dD4KICA8L2c+CiAgPGcgaWQ9Im1YSUFQIiBjbGFzcz0ibm9kZSBub2RlX25vZGVfc3R5bGUiPgogICAgPGVsbGlwc2UgaWQ9Im1YSUFQX3NoYXBlIiBjbGFzcz0ic2hhcGUiIGN4PSIzMzIuMCIgY3k9IjU5MS41IiByeD0iNDUuMCIgcnk9IjEyLjUiLz4KICAgIDx0ZXh0ICBpZD0ibVhJQVBfdGV4dCIgeD0iMzMyIiB5PSI1OTQiIHRleHQtYW5jaG9yPSJtaWRkbGUiPm1YSUFQPC90ZXh0PgogIDwvZz4KICA8ZyBpZD0iTm9uQUNEIiBjbGFzcz0ibm9kZSBub2RlX291dHB1dHMiPgogICAgPGVsbGlwc2UgaWQ9Ik5vbkFDRF9zaGFwZSIgY2xhc3M9InNoYXBlIiBjeD0iNjA1LjAiIGN5PSI3MzYuNSIgcng9IjQ1LjAiIHJ5PSIxMi41Ii8+CiAgICA8dGV4dCAgaWQ9Ik5vbkFDRF90ZXh0IiB4PSI2MDUiIHk9IjczOSIgdGV4dC1hbmNob3I9Im1pZGRsZSI+Tm9uQUNEPC90ZXh0PgogIDwvZz4KICA8ZyBpZD0iQXBvcHRvc2lzIiBjbGFzcz0ibm9kZSBub2RlX291dHB1dHMiPgogICAgPGVsbGlwc2UgaWQ9IkFwb3B0b3Npc19zaGFwZSIgY2xhc3M9InNoYXBlIiBjeD0iODQyLjAiIGN5PSI3MzYuNSIgcng9IjQ1LjAiIHJ5PSIxMi41Ii8+CiAgICA8dGV4dCAgaWQ9IkFwb3B0b3Npc190ZXh0IiB4PSI4NDIiIHk9IjczOSIgdGV4dC1hbmNob3I9Im1pZGRsZSI+QXBvcHRvc2lzPC90ZXh0PgogIDwvZz4KICA8ZyBpZD0iU3Vydml2YWwiIGNsYXNzPSJub2RlIG5vZGVfb3V0cHV0cyI+CiAgICA8ZWxsaXBzZSBpZD0iU3Vydml2YWxfc2hhcGUiIGNsYXNzPSJzaGFwZSIgY3g9IjE5OS4wIiBjeT0iNzM0LjUiIHJ4PSI0NS4wIiByeT0iMTIuNSIvPgogICAgPHRleHQgIGlkPSJTdXJ2aXZhbF90ZXh0IiB4PSIxOTkiIHk9IjczNyIgdGV4dC1hbmNob3I9Im1pZGRsZSI+U3Vydml2YWw8L3RleHQ+CiAgPC9nPgogIDxnIGlkPSJESVZJU0lPTiIgY2xhc3M9Im5vZGUgbm9kZV9vdXRwdXRzIj4KICAgIDxlbGxpcHNlIGlkPSJESVZJU0lPTl9zaGFwZSIgY2xhc3M9InNoYXBlIiBjeD0iMTkyLjAiIGN5PSI4MDkuNSIgcng9IjQ1LjAiIHJ5PSIxMi41Ii8+CiAgICA8dGV4dCAgaWQ9IkRJVklTSU9OX3RleHQiIHg9IjE5MiIgeT0iODEyIiB0ZXh0LWFuY2hvcj0ibWlkZGxlIj5ESVZJU0lPTjwvdGV4dD4KICA8L2c+CiAgPGcgaWQ9IkRFQVRIIiBjbGFzcz0ibm9kZSBub2RlX291dHB1dHMiPgogICAgPGVsbGlwc2UgaWQ9IkRFQVRIX3NoYXBlIiBjbGFzcz0ic2hhcGUiIGN4PSI3MjIuMCIgY3k9IjgwOS41IiByeD0iNDUuMCIgcnk9IjEyLjUiLz4KICAgIDx0ZXh0ICBpZD0iREVBVEhfdGV4dCIgeD0iNzIyIiB5PSI4MTIiIHRleHQtYW5jaG9yPSJtaWRkbGUiPkRFQVRIPC90ZXh0PgogIDwvZz4KPC9zdmc+Cg==\">"
      ],
      "text/plain": [
       "<IPython.core.display.HTML object>"
      ]
     },
     "execution_count": 2,
     "metadata": {},
     "output_type": "execute_result"
    }
   ],
   "source": [
    "lrg = ginsim.load(\"http://ginsim.org/sites/default/files/CellFate_multiscale.zginml\")\n",
    "ginsim.show(lrg)"
   ]
  },
  {
   "cell_type": "markdown",
   "metadata": {},
   "source": [
    "The BND file lists all the logical rules for each of the variables.\n",
    "The CFG file defines all the parameters for the simulations (transition rates, simulation parameters and initial conditions).\n",
    "The UPP file informs on the intercellular conditions and population updates.\n",
    "These files are loaded with the code contained in the following cell."
   ]
  },
  {
   "cell_type": "code",
   "execution_count": 3,
   "metadata": {},
   "outputs": [],
   "source": [
    "# Set up the required files\n",
    "bnd_file =\"CellFateModel_uppmaboss.bnd\"\n",
    "cfg_WT = \"CellFateModel_uppmaboss.cfg\"\n",
    "upp_file = \"CellFateModel_uppmaboss.upp\""
   ]
  },
  {
   "cell_type": "markdown",
   "metadata": {},
   "source": [
    "# MaBoSS simulation of the wild type model"
   ]
  },
  {
   "cell_type": "markdown",
   "metadata": {},
   "source": [
    "Before running UPMaBoSS, we strongly suggest to run an initial simulation of the wild type model with MaBoSS for the whole simulation time. This enables the user to verify how the population behaves in a normal MaBoSS run without taking into account cell death or cell division.  Here, the total (virtual) simulation time is 48 hours. \n",
    "The output results are restricted to the three model nodes \"Death\", \"Division\" and \"NFkB\". Other nodes can be considered in the output, but the most important is to select all the nodes that are used for population updating, as shown in the UPP file below. By considering these nodes in the output, MaBoSS computes explicitly the values of these nodes."
   ]
  },
  {
   "cell_type": "code",
   "execution_count": 4,
   "metadata": {},
   "outputs": [
    {
     "name": "stdout",
     "output_type": "stream",
     "text": [
      "death = Death;\n",
      "division = Division ;\n",
      "$TNF_induc u= $ProdTNF_NFkB*p[(NFkB,Death) = (1,0)];\n",
      "steps = 48;\n",
      "MaBoSS = MaBoSS\n",
      "\n"
     ]
    }
   ],
   "source": [
    "ufile = open(upp_file, 'r') \n",
    "print(ufile.read())\n",
    "ufile.close()"
   ]
  },
  {
   "cell_type": "raw",
   "metadata": {},
   "source": [
    "Note that the variable \"Death\" monitors death by apoptosis or by non-apoptotic cell death, while the variable \"Division\" reports the activity of NFkB.\n",
    "\n",
    "The following command lines load the wildtype model and set the maximal global simulation time to 48 hours (and run it for measuring the executation time, to be compared with UPMaBoSS below):"
   ]
  },
  {
   "cell_type": "code",
   "execution_count": 5,
   "metadata": {},
   "outputs": [
    {
     "name": "stdout",
     "output_type": "stream",
     "text": [
      "exec. time:  0.05120857159296672  mins\n"
     ]
    }
   ],
   "source": [
    "# Load the Wild-Type model\n",
    "model_WT = maboss.load(bnd_file, cfg_WT)\n",
    "\n",
    "# Set some parameters in the cfg file: \"max_time\" \n",
    "# and select the variables considered to be internal (not appearing in the resulting csv file)\n",
    "# here, only the two outputs will appear: Death and Division in the figures\n",
    "model_48h = maboss.copy_and_update_parameters(model_WT, {'max_time':48})\n",
    "start = time.time()\n",
    "run_48h = model_48h.run()\n",
    "stop = time.time()\n",
    "duration = (stop-start)/60\n",
    "print(\"exec. time: \",duration,\" mins\")\n",
    "for name in \"mcIAP mXIAP mROS NonACD Apoptosis Survival TNF ATP FADD cIAP FASL TNFR DISC_TNF DISC_FAS RIP1 RIP1ub RIP1K IKK CASP8 BAX BCL2 ROS MPT MOMP SMAC Cyt_c XIAP apoptosome CASP3 cFLIP\".split(' '):\n",
    "    model_48h.network[name].is_internal = True\n"
   ]
  },
  {
   "cell_type": "markdown",
   "metadata": {},
   "source": [
    "Next, we define the nodes considered in the output and launch the simulation with the following command lines:"
   ]
  },
  {
   "cell_type": "code",
   "execution_count": 6,
   "metadata": {},
   "outputs": [],
   "source": [
    "model_48h.network.set_output(('Apoptosis','NonACD','Survival'))\n",
    "run_48h = model_48h.run()"
   ]
  },
  {
   "cell_type": "markdown",
   "metadata": {},
   "source": [
    "The result of the simulation can be displayed with the following command line:"
   ]
  },
  {
   "cell_type": "code",
   "execution_count": 7,
   "metadata": {
    "scrolled": false
   },
   "outputs": [
    {
     "data": {
      "text/html": [
       "<div>\n",
       "<style scoped>\n",
       "    .dataframe tbody tr th:only-of-type {\n",
       "        vertical-align: middle;\n",
       "    }\n",
       "\n",
       "    .dataframe tbody tr th {\n",
       "        vertical-align: top;\n",
       "    }\n",
       "\n",
       "    .dataframe thead th {\n",
       "        text-align: right;\n",
       "    }\n",
       "</style>\n",
       "<table border=\"1\" class=\"dataframe\">\n",
       "  <thead>\n",
       "    <tr style=\"text-align: right;\">\n",
       "      <th></th>\n",
       "      <th>Apoptosis</th>\n",
       "      <th>NonACD</th>\n",
       "      <th>Survival</th>\n",
       "    </tr>\n",
       "  </thead>\n",
       "  <tbody>\n",
       "    <tr>\n",
       "      <th>0.0</th>\n",
       "      <td>0.00000</td>\n",
       "      <td>0.023216</td>\n",
       "      <td>0.000000</td>\n",
       "    </tr>\n",
       "    <tr>\n",
       "      <th>0.1</th>\n",
       "      <td>0.00000</td>\n",
       "      <td>0.064171</td>\n",
       "      <td>0.000000</td>\n",
       "    </tr>\n",
       "    <tr>\n",
       "      <th>0.2</th>\n",
       "      <td>0.00000</td>\n",
       "      <td>0.097979</td>\n",
       "      <td>0.000000</td>\n",
       "    </tr>\n",
       "    <tr>\n",
       "      <th>0.3</th>\n",
       "      <td>0.00000</td>\n",
       "      <td>0.124096</td>\n",
       "      <td>0.000000</td>\n",
       "    </tr>\n",
       "    <tr>\n",
       "      <th>0.4</th>\n",
       "      <td>0.00000</td>\n",
       "      <td>0.143804</td>\n",
       "      <td>0.000000</td>\n",
       "    </tr>\n",
       "    <tr>\n",
       "      <th>...</th>\n",
       "      <td>...</td>\n",
       "      <td>...</td>\n",
       "      <td>...</td>\n",
       "    </tr>\n",
       "    <tr>\n",
       "      <th>47.4</th>\n",
       "      <td>0.24712</td>\n",
       "      <td>0.180950</td>\n",
       "      <td>0.013737</td>\n",
       "    </tr>\n",
       "    <tr>\n",
       "      <th>47.5</th>\n",
       "      <td>0.24712</td>\n",
       "      <td>0.180950</td>\n",
       "      <td>0.013683</td>\n",
       "    </tr>\n",
       "    <tr>\n",
       "      <th>47.6</th>\n",
       "      <td>0.24712</td>\n",
       "      <td>0.180950</td>\n",
       "      <td>0.013644</td>\n",
       "    </tr>\n",
       "    <tr>\n",
       "      <th>47.7</th>\n",
       "      <td>0.24712</td>\n",
       "      <td>0.180950</td>\n",
       "      <td>0.013589</td>\n",
       "    </tr>\n",
       "    <tr>\n",
       "      <th>47.8</th>\n",
       "      <td>0.24712</td>\n",
       "      <td>0.180950</td>\n",
       "      <td>0.013535</td>\n",
       "    </tr>\n",
       "  </tbody>\n",
       "</table>\n",
       "<p>479 rows × 3 columns</p>\n",
       "</div>"
      ],
      "text/plain": [
       "      Apoptosis    NonACD  Survival\n",
       "0.0     0.00000  0.023216  0.000000\n",
       "0.1     0.00000  0.064171  0.000000\n",
       "0.2     0.00000  0.097979  0.000000\n",
       "0.3     0.00000  0.124096  0.000000\n",
       "0.4     0.00000  0.143804  0.000000\n",
       "...         ...       ...       ...\n",
       "47.4    0.24712  0.180950  0.013737\n",
       "47.5    0.24712  0.180950  0.013683\n",
       "47.6    0.24712  0.180950  0.013644\n",
       "47.7    0.24712  0.180950  0.013589\n",
       "47.8    0.24712  0.180950  0.013535\n",
       "\n",
       "[479 rows x 3 columns]"
      ]
     },
     "execution_count": 7,
     "metadata": {},
     "output_type": "execute_result"
    },
    {
     "data": {
      "image/png": "[encoded data removed]",
      "text/plain": [
       "<Figure size 432x360 with 1 Axes>"
      ]
     },
     "metadata": {},
     "output_type": "display_data"
    }
   ],
   "source": [
    "# Plot the results of the WT simulation\n",
    "figure = plt.figure(figsize = (6,5))\n",
    "plt.rcParams.update({'legend.fontsize': 15})\n",
    "outPlot = run_48h.get_nodes_probtraj().plot(ax=plt.gca(),fontsize=15,marker =\".\")\n",
    "outPlot.set_xlabel(\"hours\",fontsize=15)\n",
    "outPlot.set_ylabel(\"probability\",fontsize=15)\n",
    "save_figure(figure, 'MaBoSS_phenotypes')\n",
    "run_48h.get_nodes_probtraj()"
   ]
  },
  {
   "cell_type": "code",
   "execution_count": 8,
   "metadata": {},
   "outputs": [],
   "source": [
    "model_ROSOff = maboss.copy_and_mutate(model_48h, [\"ROS\"], 'OFF')\n",
    "run_ROSOff = model_ROSOff.run()"
   ]
  },
  {
   "cell_type": "code",
   "execution_count": 9,
   "metadata": {},
   "outputs": [
    {
     "data": {
      "text/html": [
       "<div>\n",
       "<style scoped>\n",
       "    .dataframe tbody tr th:only-of-type {\n",
       "        vertical-align: middle;\n",
       "    }\n",
       "\n",
       "    .dataframe tbody tr th {\n",
       "        vertical-align: top;\n",
       "    }\n",
       "\n",
       "    .dataframe thead th {\n",
       "        text-align: right;\n",
       "    }\n",
       "</style>\n",
       "<table border=\"1\" class=\"dataframe\">\n",
       "  <thead>\n",
       "    <tr style=\"text-align: right;\">\n",
       "      <th></th>\n",
       "      <th>Apoptosis</th>\n",
       "      <th>NonACD</th>\n",
       "      <th>Survival</th>\n",
       "    </tr>\n",
       "  </thead>\n",
       "  <tbody>\n",
       "    <tr>\n",
       "      <th>0.0</th>\n",
       "      <td>0.00000</td>\n",
       "      <td>0.023216</td>\n",
       "      <td>0.000000</td>\n",
       "    </tr>\n",
       "    <tr>\n",
       "      <th>0.1</th>\n",
       "      <td>0.00000</td>\n",
       "      <td>0.064171</td>\n",
       "      <td>0.000000</td>\n",
       "    </tr>\n",
       "    <tr>\n",
       "      <th>0.2</th>\n",
       "      <td>0.00000</td>\n",
       "      <td>0.097978</td>\n",
       "      <td>0.000000</td>\n",
       "    </tr>\n",
       "    <tr>\n",
       "      <th>0.3</th>\n",
       "      <td>0.00000</td>\n",
       "      <td>0.124102</td>\n",
       "      <td>0.000000</td>\n",
       "    </tr>\n",
       "    <tr>\n",
       "      <th>0.4</th>\n",
       "      <td>0.00000</td>\n",
       "      <td>0.143804</td>\n",
       "      <td>0.000000</td>\n",
       "    </tr>\n",
       "    <tr>\n",
       "      <th>...</th>\n",
       "      <td>...</td>\n",
       "      <td>...</td>\n",
       "      <td>...</td>\n",
       "    </tr>\n",
       "    <tr>\n",
       "      <th>47.4</th>\n",
       "      <td>0.28106</td>\n",
       "      <td>0.000000</td>\n",
       "      <td>0.015855</td>\n",
       "    </tr>\n",
       "    <tr>\n",
       "      <th>47.5</th>\n",
       "      <td>0.28106</td>\n",
       "      <td>0.000000</td>\n",
       "      <td>0.015801</td>\n",
       "    </tr>\n",
       "    <tr>\n",
       "      <th>47.6</th>\n",
       "      <td>0.28106</td>\n",
       "      <td>0.000000</td>\n",
       "      <td>0.015722</td>\n",
       "    </tr>\n",
       "    <tr>\n",
       "      <th>47.7</th>\n",
       "      <td>0.28106</td>\n",
       "      <td>0.000000</td>\n",
       "      <td>0.015625</td>\n",
       "    </tr>\n",
       "    <tr>\n",
       "      <th>47.8</th>\n",
       "      <td>0.28106</td>\n",
       "      <td>0.000000</td>\n",
       "      <td>0.015559</td>\n",
       "    </tr>\n",
       "  </tbody>\n",
       "</table>\n",
       "<p>479 rows × 3 columns</p>\n",
       "</div>"
      ],
      "text/plain": [
       "      Apoptosis    NonACD  Survival\n",
       "0.0     0.00000  0.023216  0.000000\n",
       "0.1     0.00000  0.064171  0.000000\n",
       "0.2     0.00000  0.097978  0.000000\n",
       "0.3     0.00000  0.124102  0.000000\n",
       "0.4     0.00000  0.143804  0.000000\n",
       "...         ...       ...       ...\n",
       "47.4    0.28106  0.000000  0.015855\n",
       "47.5    0.28106  0.000000  0.015801\n",
       "47.6    0.28106  0.000000  0.015722\n",
       "47.7    0.28106  0.000000  0.015625\n",
       "47.8    0.28106  0.000000  0.015559\n",
       "\n",
       "[479 rows x 3 columns]"
      ]
     },
     "execution_count": 9,
     "metadata": {},
     "output_type": "execute_result"
    },
    {
     "data": {
      "image/png": "[encoded data removed]",
      "text/plain": [
       "<Figure size 432x360 with 1 Axes>"
      ]
     },
     "metadata": {},
     "output_type": "display_data"
    }
   ],
   "source": [
    "# Plot the results of the ROSS off simulation\n",
    "figure = plt.figure(figsize = (6,5))\n",
    "plt.rcParams.update({'legend.fontsize': 15})\n",
    "outPlot = run_ROSOff.get_nodes_probtraj().plot(ax=plt.gca(),fontsize=15,marker = \".\")\n",
    "outPlot.set_xlabel(\"hours\",fontsize=15)\n",
    "outPlot.set_ylabel(\"probability\",fontsize=15)\n",
    "save_figure(figure, 'MaBoSS_phenotypes_ROSOff')\n",
    "run_ROSOff.get_nodes_probtraj()"
   ]
  },
  {
   "cell_type": "markdown",
   "metadata": {},
   "source": [
    "# UPMaBoSS simulations"
   ]
  },
  {
   "cell_type": "markdown",
   "metadata": {},
   "source": [
    "We now wish to explore the population dynamics for the cell fate model considering cell death, cell division and intercellular events. \n",
    "To do so, we divide the 48 hours into 48 runs (the variable \"steps\" is set to 48 in CellFateModel_uppmaboss.upp file) of 1 for each time steps (the variable \"max_time\" is set to 1 in CellFateModel_uppmaboss.cfg file). This choice of the value 1 is based on the analysis of the profile of the MaBoSS simulation above, as such a time-step enables to capture transient changes of activities of the output nodes Death, Division and NFkB."
   ]
  },
  {
   "cell_type": "markdown",
   "metadata": {},
   "source": [
    "The following code cell run UpPMaBoSS on the WT model, calling iteratively 48 times MaBoSS and updating the input variables between each of these calls."
   ]
  },
  {
   "cell_type": "code",
   "execution_count": 10,
   "metadata": {
    "scrolled": true
   },
   "outputs": [
    {
     "name": "stdout",
     "output_type": "stream",
     "text": [
      "exec. time:  0.3561037580172221  mins\n"
     ]
    }
   ],
   "source": [
    "# Run UPMaBoSS on the WT model and collect population ratios\n",
    "# A folder named \"WT\" \"is created with the 48 runs\n",
    "uppModel_WT = maboss.UpdatePopulation(model_WT, upp_file)\n",
    "start = time.time()\n",
    "run_WT = uppModel_WT.run()\n",
    "stop = time.time()\n",
    "duration = (stop-start)/60\n",
    "print(\"exec. time: \",duration,\" mins\")\n",
    "pop_ratios_WT = run_WT.get_population_ratios('NFkB -> TNF')"
   ]
  },
  {
   "cell_type": "markdown",
   "metadata": {},
   "source": [
    "and then continue this simulation wiht constant TNF."
   ]
  },
  {
   "cell_type": "code",
   "execution_count": 11,
   "metadata": {},
   "outputs": [
    {
     "name": "stderr",
     "output_type": "stream",
     "text": [
      "/home/gstoll/anaconda3/envs/umb/lib/python3.9/site-packages/maboss/upp/results.py:45: FutureWarning: The squeeze argument has been deprecated and will be removed in a future version. Append .squeeze(\"columns\") to the call to squeeze.\n",
      "\n",
      "\n",
      "  self.pop_ratios = pd.read_csv(\n"
     ]
    }
   ],
   "source": [
    "# Create a model for a second treatment of TNF\n",
    "model_reTNF = maboss.copy_and_update_parameters(model_WT, {'$TNF_induc': 20})\n",
    "\n",
    "# Run UPMaBoSS for the second treatment of TNF after a WT run with TNF ON\n",
    "# A folder named \"TNF_reTNF\" is created with the 48 runs\n",
    "uppModel_TNF_reTNF = maboss.UpdatePopulation(model_reTNF, upp_file, previous_run=run_WT)\n",
    "run_TNF_reTNF = uppModel_TNF_reTNF.run('TNF_reTNF')\n",
    "pop_ratios_TNF_reTNF = run_TNF_reTNF.get_population_ratios('TNF')\n",
    "\n",
    "\n"
   ]
  },
  {
   "cell_type": "markdown",
   "metadata": {},
   "source": [
    "Next, we plot the population ratios computed for the protocol: \n",
    "(Pulse of TNF) + TNF, "
   ]
  },
  {
   "cell_type": "code",
   "execution_count": 12,
   "metadata": {
    "scrolled": true
   },
   "outputs": [
    {
     "data": {
      "image/png": "[encoded data removed]",
      "text/plain": [
       "<Figure size 360x360 with 1 Axes>"
      ]
     },
     "metadata": {},
     "output_type": "display_data"
    }
   ],
   "source": [
    "# Plot population ratios for a second treatment of TNF with or without the initial TNF stimulation\n",
    "# A figure \"figure_two_steps_ratios.pdf\" is saved\n",
    "figure = plt.figure(figsize = (5,5))\n",
    "plt.rcParams.update({'legend.fontsize': 15})\n",
    "pop_ratios_WT.name = \"TNFPulse\"\n",
    "pop_ratios_WT.plot(style='-k', legend=False,fontsize=20,ylabel=\"population ratio\",ylim=(0,1))\n",
    "# pop_ratios_noTNF.plot(style='.-b', legend=False)\n",
    "pop_ratios_TNF_reTNF.plot(style='-r', legend=False)\n",
    "plt.xlabel(\"time\",fontsize=20)\n",
    "plt.ylabel(\"population ratio\",fontsize=20)\n",
    "plt.axvline(x=48,ls=\"--\")\n",
    "# pop_ratios_noTNF_reTNF.plot(style='.-g', legend=False)\n",
    "save_figure(figure, 'two_steps_ratios')"
   ]
  },
  {
   "cell_type": "code",
   "execution_count": null,
   "metadata": {},
   "outputs": [],
   "source": []
  }
 ],
 "metadata": {
  "kernelspec": {
   "display_name": "Python 3",
   "language": "python",
   "name": "python3"
  },
  "language_info": {
   "codemirror_mode": {
    "name": "ipython",
    "version": 3
   },
   "file_extension": ".py",
   "mimetype": "text/x-python",
   "name": "python",
   "nbconvert_exporter": "python",
   "pygments_lexer": "ipython3",
   "version": "3.9.12"
  }
 },
 "nbformat": 4,
 "nbformat_minor": 2
}
